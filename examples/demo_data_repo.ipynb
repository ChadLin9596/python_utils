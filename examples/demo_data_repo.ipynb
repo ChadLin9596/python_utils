{
 "cells": [
  {
   "cell_type": "code",
   "execution_count": 1,
   "metadata": {},
   "outputs": [],
   "source": [
    "import os\n",
    "\n",
    "import dill\n",
    "import numpy as np\n",
    "\n",
    "# local module\n",
    "import py_utils.data_repo as data_repo"
   ]
  },
  {
   "cell_type": "markdown",
   "metadata": {},
   "source": [
    "---\n",
    "writing time comparison: numpy vs dill"
   ]
  },
  {
   "cell_type": "code",
   "execution_count": 2,
   "metadata": {},
   "outputs": [
    {
     "data": {
      "text/plain": [
       "762.939453125"
      ]
     },
     "execution_count": 2,
     "metadata": {},
     "output_type": "execute_result"
    }
   ],
   "source": [
    "# hundred million float64\n",
    "foo = np.random.rand(1000000, 100)\n",
    "\n",
    "# estimate how many megabytes will take in local file system\n",
    "num_bits = 1e8 * 64\n",
    "num_bytes = num_bits / 8.0\n",
    "num_mb = num_bytes / 2**20\n",
    "num_mb"
   ]
  },
  {
   "cell_type": "code",
   "execution_count": 3,
   "metadata": {},
   "outputs": [
    {
     "name": "stdout",
     "output_type": "stream",
     "text": [
      "CPU times: user 7.23 ms, sys: 3.07 s, total: 3.08 s\n",
      "Wall time: 3.1 s\n"
     ]
    }
   ],
   "source": [
    "%%time\n",
    "for i in range(10):\n",
    "    np.save('foo.npy', foo)"
   ]
  },
  {
   "cell_type": "code",
   "execution_count": 4,
   "metadata": {},
   "outputs": [
    {
     "name": "stdout",
     "output_type": "stream",
     "text": [
      "CPU times: user 642 ms, sys: 5.74 s, total: 6.38 s\n",
      "Wall time: 10.8 s\n"
     ]
    }
   ],
   "source": [
    "%%time\n",
    "for i in range(10):\n",
    "    with open('foo.dill', 'wb') as fd:\n",
    "        dill.dump(foo, fd)"
   ]
  },
  {
   "cell_type": "code",
   "execution_count": 5,
   "metadata": {},
   "outputs": [
    {
     "name": "stdout",
     "output_type": "stream",
     "text": [
      "-rw-rw-r-- 1 chad 763M Mar 18 12:32 foo.dill\n",
      "-rw-rw-r-- 1 chad 763M Mar 18 12:32 foo.npy\n"
     ]
    }
   ],
   "source": [
    "ll -h | grep foo"
   ]
  },
  {
   "cell_type": "code",
   "execution_count": 6,
   "metadata": {},
   "outputs": [],
   "source": [
    "os.remove(\"foo.npy\")\n",
    "os.remove(\"foo.dill\")"
   ]
  },
  {
   "cell_type": "markdown",
   "metadata": {},
   "source": [
    "---"
   ]
  },
  {
   "cell_type": "code",
   "execution_count": 7,
   "metadata": {},
   "outputs": [],
   "source": [
    "os.mkdir(\"temp\")\n",
    "repo = data_repo.DataRepositoryObserver(\"temp\")"
   ]
  },
  {
   "cell_type": "code",
   "execution_count": 8,
   "metadata": {},
   "outputs": [],
   "source": [
    "foo = {\"A\": 1, \"B\": [1, 2, 3], \"C\": lambda x: x**2, \"D\": np.random.rand(3, 3)}"
   ]
  },
  {
   "cell_type": "code",
   "execution_count": 9,
   "metadata": {},
   "outputs": [],
   "source": [
    "repo.add_item(\"foo.1\", foo, version=1, include_function=True)"
   ]
  },
  {
   "cell_type": "code",
   "execution_count": 10,
   "metadata": {},
   "outputs": [
    {
     "data": {
      "text/plain": [
       "{'foo.1.dill': {'version': 1, 'include_function': True}}"
      ]
     },
     "execution_count": 10,
     "metadata": {},
     "output_type": "execute_result"
    }
   ],
   "source": [
    "repo.list_items()"
   ]
  },
  {
   "cell_type": "code",
   "execution_count": 11,
   "metadata": {},
   "outputs": [],
   "source": [
    "repo.add_item(\"foo.2\", foo, version=2, include_function=True)\n",
    "repo.add_item(\"foo.3\", foo, version=4, include_function=True)\n",
    "repo.add_item(\"foo.4\", foo, version=3, include_function=True)"
   ]
  },
  {
   "cell_type": "code",
   "execution_count": 12,
   "metadata": {},
   "outputs": [
    {
     "data": {
      "text/plain": [
       "{'foo.1.dill': {'version': 1, 'include_function': True},\n",
       " 'foo.2.dill': {'version': 2, 'include_function': True},\n",
       " 'foo.3.dill': {'version': 4, 'include_function': True},\n",
       " 'foo.4.dill': {'version': 3, 'include_function': True}}"
      ]
     },
     "execution_count": 12,
     "metadata": {},
     "output_type": "execute_result"
    }
   ],
   "source": [
    "repo.list_items()"
   ]
  },
  {
   "cell_type": "code",
   "execution_count": 13,
   "metadata": {},
   "outputs": [
    {
     "data": {
      "text/plain": [
       "{'foo.1.dill': {'version': 1, 'include_function': True},\n",
       " 'foo.2.dill': {'version': 2, 'include_function': True},\n",
       " 'foo.4.dill': {'version': 3, 'include_function': True}}"
      ]
     },
     "execution_count": 13,
     "metadata": {},
     "output_type": "execute_result"
    }
   ],
   "source": [
    "def filter_by(name, attr):\n",
    "    if \"version\" not in attr:\n",
    "        return False\n",
    "\n",
    "    if attr[\"version\"] > 3:\n",
    "        return False\n",
    "\n",
    "    return True\n",
    "\n",
    "\n",
    "repo.list_items(filter_by=filter_by)"
   ]
  },
  {
   "cell_type": "code",
   "execution_count": 14,
   "metadata": {},
   "outputs": [
    {
     "data": {
      "text/plain": [
       "{'version': 1, 'include_function': True}"
      ]
     },
     "execution_count": 14,
     "metadata": {},
     "output_type": "execute_result"
    }
   ],
   "source": [
    "obj = repo.get_item(\"foo.1.dill\")\n",
    "attr = repo.get_attribute(\"foo.1.dill\")\n",
    "attr"
   ]
  },
  {
   "cell_type": "code",
   "execution_count": 15,
   "metadata": {},
   "outputs": [
    {
     "data": {
      "text/plain": [
       "{'A': 1,\n",
       " 'B': [1, 2, 3],\n",
       " 'C': <function __main__.<lambda>(x)>,\n",
       " 'D': array([[0.63352109, 0.73267988, 0.34943828],\n",
       "        [0.13278247, 0.91478017, 0.55377615],\n",
       "        [0.79264813, 0.85459829, 0.23482393]])}"
      ]
     },
     "execution_count": 15,
     "metadata": {},
     "output_type": "execute_result"
    }
   ],
   "source": [
    "obj"
   ]
  },
  {
   "cell_type": "code",
   "execution_count": 16,
   "metadata": {},
   "outputs": [
    {
     "data": {
      "text/plain": [
       "9"
      ]
     },
     "execution_count": 16,
     "metadata": {},
     "output_type": "execute_result"
    }
   ],
   "source": [
    "obj[\"C\"](3)"
   ]
  },
  {
   "cell_type": "code",
   "execution_count": 17,
   "metadata": {},
   "outputs": [],
   "source": [
    "foo = np.random.rand(10, 3)\n",
    "repo.add_item(\"foo.1\", foo, version=1, include_function=False)\n",
    "repo.add_item(\"foo.2\", foo, version=1, include_function=False)\n",
    "repo.add_item(\"foo.3\", foo, version=1, include_function=False)"
   ]
  },
  {
   "cell_type": "code",
   "execution_count": 18,
   "metadata": {},
   "outputs": [
    {
     "data": {
      "text/plain": [
       "{'foo.1.dill': {'version': 1, 'include_function': True},\n",
       " 'foo.2.dill': {'version': 2, 'include_function': True},\n",
       " 'foo.3.dill': {'version': 4, 'include_function': True},\n",
       " 'foo.4.dill': {'version': 3, 'include_function': True},\n",
       " 'foo.1.npy': {'version': 1, 'include_function': False},\n",
       " 'foo.2.npy': {'version': 1, 'include_function': False},\n",
       " 'foo.3.npy': {'version': 1, 'include_function': False}}"
      ]
     },
     "execution_count": 18,
     "metadata": {},
     "output_type": "execute_result"
    }
   ],
   "source": [
    "repo.list_items()"
   ]
  },
  {
   "cell_type": "code",
   "execution_count": 19,
   "metadata": {},
   "outputs": [],
   "source": [
    "rm -rf ./temp"
   ]
  },
  {
   "cell_type": "code",
   "execution_count": null,
   "metadata": {},
   "outputs": [],
   "source": []
  }
 ],
 "metadata": {
  "kernelspec": {
   "display_name": "py3.9.6.release",
   "language": "python",
   "name": "python3"
  },
  "language_info": {
   "codemirror_mode": {
    "name": "ipython",
    "version": 3
   },
   "file_extension": ".py",
   "mimetype": "text/x-python",
   "name": "python",
   "nbconvert_exporter": "python",
   "pygments_lexer": "ipython3",
   "version": "3.9.6"
  }
 },
 "nbformat": 4,
 "nbformat_minor": 2
}
