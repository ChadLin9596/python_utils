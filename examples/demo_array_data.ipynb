{
 "cells": [
  {
   "cell_type": "code",
   "execution_count": 1,
   "metadata": {},
   "outputs": [],
   "source": [
    "import numpy as np\n",
    "\n",
    "import py_utils.array_data as array_data"
   ]
  },
  {
   "cell_type": "code",
   "execution_count": null,
   "metadata": {},
   "outputs": [
    {
     "data": {
      "text/plain": [
       "'ArithmeticError'"
      ]
     },
     "execution_count": 1,
     "metadata": {},
     "output_type": "execute_result"
    }
   ],
   "source": []
  },
  {
   "cell_type": "code",
   "execution_count": 2,
   "metadata": {},
   "outputs": [
    {
     "data": {
      "text/plain": [
       "<TimePoseSequence contains 10 rows>"
      ]
     },
     "execution_count": 2,
     "metadata": {},
     "output_type": "execute_result"
    }
   ],
   "source": [
    "arr = array_data.TimePoseSequence(10)\n",
    "arr"
   ]
  },
  {
   "cell_type": "markdown",
   "metadata": {},
   "source": [
    "---\n",
    "Timestamps"
   ]
  },
  {
   "cell_type": "code",
   "execution_count": 3,
   "metadata": {},
   "outputs": [
    {
     "data": {
      "text/plain": [
       "array([             0,  3600000000000,  7200000000000, 10800000000000,\n",
       "       14400000000000, 18000000000000, 21600000000000, 25200000000000,\n",
       "       28800000000000, 32400000000000])"
      ]
     },
     "execution_count": 3,
     "metadata": {},
     "output_type": "execute_result"
    }
   ],
   "source": [
    "# unit: nanosecond\n",
    "# 3600 * 1e9 nanoseconds -> 1 hour\n",
    "arr.timestamps = np.arange(10) * 3600 * 1e9\n",
    "arr.timestamps"
   ]
  },
  {
   "cell_type": "code",
   "execution_count": 4,
   "metadata": {},
   "outputs": [
    {
     "data": {
      "text/plain": [
       "DatetimeIndex(['1970-01-01 00:00:00', '1970-01-01 01:00:00',\n",
       "               '1970-01-01 02:00:00', '1970-01-01 03:00:00',\n",
       "               '1970-01-01 04:00:00', '1970-01-01 05:00:00',\n",
       "               '1970-01-01 06:00:00', '1970-01-01 07:00:00',\n",
       "               '1970-01-01 08:00:00', '1970-01-01 09:00:00'],\n",
       "              dtype='datetime64[ns]', freq=None)"
      ]
     },
     "execution_count": 4,
     "metadata": {},
     "output_type": "execute_result"
    }
   ],
   "source": [
    "arr.datetime"
   ]
  },
  {
   "cell_type": "markdown",
   "metadata": {},
   "source": [
    "---\n",
    "Pose"
   ]
  },
  {
   "cell_type": "code",
   "execution_count": 5,
   "metadata": {},
   "outputs": [
    {
     "data": {
      "text/plain": [
       "array([[ 0,  1,  2],\n",
       "       [ 3,  4,  5],\n",
       "       [ 6,  7,  8],\n",
       "       [ 9, 10, 11],\n",
       "       [12, 13, 14],\n",
       "       [15, 16, 17],\n",
       "       [18, 19, 20],\n",
       "       [21, 22, 23],\n",
       "       [24, 25, 26],\n",
       "       [27, 28, 29]])"
      ]
     },
     "execution_count": 5,
     "metadata": {},
     "output_type": "execute_result"
    }
   ],
   "source": [
    "arr.xyz = np.arange(30).reshape(10, 3)\n",
    "arr.xyz"
   ]
  },
  {
   "cell_type": "code",
   "execution_count": 6,
   "metadata": {},
   "outputs": [],
   "source": [
    "arr.quaternion = np.vstack(\n",
    "    [\n",
    "        np.random.rand(10),  # x\n",
    "        np.random.rand(10),  # y\n",
    "        np.random.rand(10),  # z\n",
    "        np.ones(10),  # W\n",
    "    ]\n",
    ").T"
   ]
  },
  {
   "cell_type": "code",
   "execution_count": 7,
   "metadata": {},
   "outputs": [
    {
     "data": {
      "text/plain": [
       "array([[0.72786191, 0.79559704, 0.85754927, 1.        ],\n",
       "       [0.98852555, 0.15198057, 0.60553464, 1.        ],\n",
       "       [0.57877275, 0.55511337, 0.60972209, 1.        ],\n",
       "       [0.22326183, 0.67220113, 0.77170209, 1.        ],\n",
       "       [0.6374978 , 0.30476258, 0.0566788 , 1.        ],\n",
       "       [0.42707619, 0.11127575, 0.47188535, 1.        ],\n",
       "       [0.70315328, 0.27301257, 0.96714968, 1.        ],\n",
       "       [0.41128024, 0.76254848, 0.67097259, 1.        ],\n",
       "       [0.88338814, 0.53707487, 0.0258616 , 1.        ],\n",
       "       [0.77633679, 0.66122523, 0.0144332 , 1.        ]])"
      ]
     },
     "execution_count": 7,
     "metadata": {},
     "output_type": "execute_result"
    }
   ],
   "source": [
    "arr.quaternion"
   ]
  },
  {
   "cell_type": "code",
   "execution_count": 8,
   "metadata": {},
   "outputs": [
    {
     "data": {
      "text/plain": [
       "((10, 3, 3),\n",
       " array([[[ 0.05569679, -0.19216717,  0.97978041],\n",
       "         [ 0.99141512,  0.12690895, -0.03146716],\n",
       "         [-0.11829594,  0.97312173,  0.19758586]],\n",
       " \n",
       "        [[ 0.6706565 , -0.38471229,  0.63420525],\n",
       "         [ 0.63860271, -0.13551467, -0.75751063],\n",
       "         [ 0.37736777,  0.91303462,  0.15479452]],\n",
       " \n",
       "        [[ 0.32511258, -0.28630608,  0.90129387],\n",
       "         [ 0.92412656,  0.29848378, -0.23853202],\n",
       "         [-0.20072843,  0.91045937,  0.36162389]],\n",
       " \n",
       "        [[ 0.00117649, -0.59280758,  0.80534327],\n",
       "         [ 0.87904659,  0.38454847,  0.28177929],\n",
       "         [-0.47673442,  0.70760275,  0.5215579 ]],\n",
       " \n",
       "        [[ 0.87208923,  0.18317075,  0.4537718 ],\n",
       "         [ 0.33406312,  0.45475278, -0.82559176],\n",
       "         [-0.35757825,  0.8715781 ,  0.33539441]],\n",
       " \n",
       "        [[ 0.6683372 , -0.59876749,  0.4413648 ],\n",
       "         [ 0.73287634,  0.42845358, -0.52850715],\n",
       "         [ 0.12734857,  0.6766868 ,  0.72517399]],\n",
       " \n",
       "        [[ 0.19346829, -0.61906957,  0.76113264],\n",
       "         [ 0.9256889 , -0.14186066, -0.35067878],\n",
       "         [ 0.32506934,  0.77241726,  0.54562029]],\n",
       " \n",
       "        [[ 0.06246128, -0.32474159,  0.94373804],\n",
       "         [ 0.89474525,  0.43716325,  0.09120979],\n",
       "         [-0.4421872 ,  0.83870805,  0.31786677]],\n",
       " \n",
       "        [[ 0.72059025,  0.43352068,  0.54111877],\n",
       "         [ 0.48350704,  0.24518374, -0.84030107],\n",
       "         [-0.49696141,  0.86714748, -0.03293329]],\n",
       " \n",
       "        [[ 0.57117636,  0.48908772,  0.65920465],\n",
       "         [ 0.51738636,  0.40895107, -0.75171163],\n",
       "         [-0.63723537,  0.77042341, -0.01946414]]]))"
      ]
     },
     "execution_count": 8,
     "metadata": {},
     "output_type": "execute_result"
    }
   ],
   "source": [
    "arr.R.shape, arr.R"
   ]
  },
  {
   "cell_type": "markdown",
   "metadata": {},
   "source": [
    "---\n",
    "Indexing"
   ]
  },
  {
   "cell_type": "code",
   "execution_count": 9,
   "metadata": {},
   "outputs": [
    {
     "data": {
      "text/plain": [
       "DatetimeIndex(['1970-01-01 00:00:00', '1970-01-01 01:00:00',\n",
       "               '1970-01-01 02:00:00', '1970-01-01 03:00:00',\n",
       "               '1970-01-01 04:00:00', '1970-01-01 05:00:00',\n",
       "               '1970-01-01 06:00:00', '1970-01-01 07:00:00',\n",
       "               '1970-01-01 08:00:00', '1970-01-01 09:00:00'],\n",
       "              dtype='datetime64[ns]', freq=None)"
      ]
     },
     "execution_count": 9,
     "metadata": {},
     "output_type": "execute_result"
    }
   ],
   "source": [
    "arr.datetime"
   ]
  },
  {
   "cell_type": "code",
   "execution_count": 10,
   "metadata": {},
   "outputs": [
    {
     "data": {
      "text/plain": [
       "(<TimePoseSequence contains 4 rows>,\n",
       " DatetimeIndex(['1970-01-01 00:00:00', '1970-01-01 01:00:00',\n",
       "                '1970-01-01 02:00:00', '1970-01-01 03:00:00'],\n",
       "               dtype='datetime64[ns]', freq=None),\n",
       " array([[ 0,  1,  2],\n",
       "        [ 3,  4,  5],\n",
       "        [ 6,  7,  8],\n",
       "        [ 9, 10, 11]]))"
      ]
     },
     "execution_count": 10,
     "metadata": {},
     "output_type": "execute_result"
    }
   ],
   "source": [
    "foo = arr[:4]\n",
    "foo, foo.datetime, foo.xyz"
   ]
  },
  {
   "cell_type": "code",
   "execution_count": 11,
   "metadata": {},
   "outputs": [
    {
     "data": {
      "text/plain": [
       "(<TimePoseSequence contains 3 rows>,\n",
       " DatetimeIndex(['1970-01-01 01:00:00', '1970-01-01 03:00:00',\n",
       "                '1970-01-01 07:00:00'],\n",
       "               dtype='datetime64[ns]', freq=None),\n",
       " array([[ 3,  4,  5],\n",
       "        [ 9, 10, 11],\n",
       "        [21, 22, 23]]))"
      ]
     },
     "execution_count": 11,
     "metadata": {},
     "output_type": "execute_result"
    }
   ],
   "source": [
    "foo = arr[[1, 3, 7]]\n",
    "foo, foo.datetime, foo.xyz"
   ]
  },
  {
   "cell_type": "code",
   "execution_count": 12,
   "metadata": {},
   "outputs": [
    {
     "data": {
      "text/plain": [
       "array([1, 3, 7])"
      ]
     },
     "execution_count": 12,
     "metadata": {},
     "output_type": "execute_result"
    }
   ],
   "source": [
    "foo.index"
   ]
  }
 ],
 "metadata": {
  "kernelspec": {
   "display_name": "py3.9.6.release",
   "language": "python",
   "name": "python3"
  },
  "language_info": {
   "codemirror_mode": {
    "name": "ipython",
    "version": 3
   },
   "file_extension": ".py",
   "mimetype": "text/x-python",
   "name": "python",
   "nbconvert_exporter": "python",
   "pygments_lexer": "ipython3",
   "version": "3.9.6"
  }
 },
 "nbformat": 4,
 "nbformat_minor": 2
}
